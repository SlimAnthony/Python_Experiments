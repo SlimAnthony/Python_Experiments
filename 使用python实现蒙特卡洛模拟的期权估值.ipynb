{
  "nbformat": 4,
  "nbformat_minor": 0,
  "metadata": {
    "colab": {
      "name": "使用python实现蒙特卡洛模拟的期权估值.ipynb",
      "version": "0.3.2",
      "provenance": [],
      "collapsed_sections": [],
      "include_colab_link": true
    },
    "kernelspec": {
      "name": "python3",
      "display_name": "Python 3"
    },
    "accelerator": "TPU"
  },
  "cells": [
    {
      "cell_type": "markdown",
      "metadata": {
        "id": "view-in-github",
        "colab_type": "text"
      },
      "source": [
        "<a href=\"https://colab.research.google.com/github/SlimAnthony/Python_Experiments/blob/master/%E4%BD%BF%E7%94%A8python%E5%AE%9E%E7%8E%B0%E8%92%99%E7%89%B9%E5%8D%A1%E6%B4%9B%E6%A8%A1%E6%8B%9F%E7%9A%84%E6%9C%9F%E6%9D%83%E4%BC%B0%E5%80%BC.ipynb\" target=\"_parent\"><img src=\"https://colab.research.google.com/assets/colab-badge.svg\" alt=\"Open In Colab\"/></a>"
      ]
    },
    {
      "cell_type": "code",
      "metadata": {
        "id": "mjr2TAYrTUoA",
        "colab_type": "code",
        "outputId": "09e109ce-436f-4a6e-ea2b-9d335f8e173e",
        "colab": {
          "base_uri": "https://localhost:8080/",
          "height": 34
        }
      },
      "source": [
        "from __future__ import division, print_function\n",
        "from math import log, sqrt, exp\n",
        "from scipy import stats\n",
        "\n",
        "def bsm_call_value(S0, K, T, r, sigma):\n",
        "    \"\"\"\n",
        "        根据BSM公式计算期权估值\n",
        "        \n",
        "        参数\n",
        "        ======\n",
        "        S0:     初始标的物价格，即t=0\n",
        "        K:      期权行权价格\n",
        "        T:      期权到期日\n",
        "        r:      固定无风险短期利率\n",
        "        sigma:  标的物固定波动率\n",
        "        \n",
        "        返回值\n",
        "        ======\n",
        "        value:  当前期权定价\n",
        "    \"\"\"\n",
        "    S0 = float(S0)\n",
        "    d1 = (log(S0 / K) + (r + 0.5 * sigma ** 2) * T) / (sigma * sqrt(T))\n",
        "    d2 = (log(S0 / K) + (r - 0.5 * sigma ** 2) * T) / (sigma * sqrt(T))\n",
        "    value = (S0 * stats.norm.cdf(d1, 0.0, 1.0) - K * exp(-r * T) * stats.norm.cdf(d2, 0.0, 1.0))\n",
        "    return value\n",
        "\n",
        "bsm_call_value(100,105,1,0.05,0.2)"
      ],
      "execution_count": 0,
      "outputs": [
        {
          "output_type": "execute_result",
          "data": {
            "text/plain": [
              "8.021352235143176"
            ]
          },
          "metadata": {
            "tags": []
          },
          "execution_count": 6
        }
      ]
    },
    {
      "cell_type": "code",
      "metadata": {
        "id": "gNZgswKzVBxl",
        "colab_type": "code",
        "outputId": "c9e030f5-bb27-4495-c424-c26fe6b814f3",
        "colab": {
          "base_uri": "https://localhost:8080/",
          "height": 105
        }
      },
      "source": [
        "from __future__ import division, print_function\n",
        "from time import time\n",
        "from math import exp, sqrt, log\n",
        "from random import gauss, seed\n",
        "import numpy as np\n",
        "\n",
        "\n",
        "def run_main():\n",
        "    \"\"\"\n",
        "        主函数       \n",
        "    \"\"\"\n",
        "    S0 = 100.\n",
        "    K = 105.\n",
        "    T = 1.\n",
        "    r = 0.05\n",
        "    sigma = 0.2\n",
        "    init_value = bsm_call_value(S0, K, T, r, sigma)\n",
        "    print('BSM方法的期权估值：', init_value)\n",
        "\n",
        "    M = 50  # 子时段个数\n",
        "    dt = T / M  # 子时段时间间隔\n",
        "    I = 250000  # 迭代次数\n",
        "\n",
        "    # 方法1. 纯Python，只使用內建的Python功能和标准库实现蒙特卡洛估值\n",
        "    t0 = time()\n",
        "    S = []\n",
        "    for i in range(I):\n",
        "        path = []\n",
        "        for t in range(M + 1):\n",
        "            if t == 0:\n",
        "                path.append(S0)\n",
        "            else:\n",
        "                z = gauss(0., 1.)\n",
        "                S_t = path[t - 1] * exp((r - 0.5 * sigma ** 2) * dt + sigma * sqrt(dt) * z)\n",
        "                path.append(S_t)\n",
        "        S.append(path)\n",
        "        \n",
        "       # result=0\n",
        "       # for path in S:\n",
        "       #   s_result = max(path[-1] - K, 0)\n",
        "       #   result += s_result\n",
        "       # C_0 = exp(-r * T) * result/I  \n",
        "        \n",
        "        \n",
        "    C_0 = exp(-r * T) * sum([max(path[-1] - K, 0) for path in S]) / I\n",
        "\n",
        "    duration = time() - t0\n",
        "    print('使用纯Python实现期权估值的模拟：', C_0)\n",
        "    print('耗时{}秒'.format(duration))\n",
        "\n",
        "    # 方法2. 向量化NumPy, 使用NumPy功能实现更加紧凑高效的版本\n",
        "    t1 = time()\n",
        "    S = np.zeros((M + 1, I))\n",
        "    S[0] = S0\n",
        "    for t in range(1, M + 1):\n",
        "        z = np.random.standard_normal(I)\n",
        "        S[t] = S[t - 1] * np.exp((r - 0.5 * sigma ** 2) * dt + sigma * sqrt(dt) * z)\n",
        "    C_0 = exp(-r * T) * np.sum(np.maximum(S[-1] - K, 0)) / I\n",
        "\n",
        "    duration2 = time() - t1\n",
        "    print('使用NumPy实现期权估值的模拟：', C_0)\n",
        "    print('耗时{}秒'.format(duration2))\n",
        "\n",
        "\n",
        "if __name__ == '__main__':\n",
        "    run_main()\n"
      ],
      "execution_count": 0,
      "outputs": [
        {
          "output_type": "stream",
          "text": [
            "BSM方法的期权估值： 8.021352235143176\n",
            "使用纯Python实现期权估值的模拟： 8.070100739663454\n",
            "耗时16.605273962020874秒\n",
            "使用NumPy实现期权估值的模拟： 8.037015774063205\n",
            "耗时1.2062687873840332秒\n"
          ],
          "name": "stdout"
        }
      ]
    }
  ]
}